{
  "nbformat": 4,
  "nbformat_minor": 0,
  "metadata": {
    "colab": {
      "name": "K Fold AUC.ipynb",
      "provenance": [],
      "include_colab_link": true
    },
    "kernelspec": {
      "name": "python3",
      "display_name": "Python 3"
    },
    "language_info": {
      "name": "python"
    },
    "accelerator": "GPU"
  },
  "cells": [
    {
      "cell_type": "markdown",
      "metadata": {
        "id": "view-in-github",
        "colab_type": "text"
      },
      "source": [
        "<a href=\"https://colab.research.google.com/github/sachinkavindaa/ML-Project/blob/master/K_Fold_AUC_SGD_metrices.ipynb\" target=\"_parent\"><img src=\"https://colab.research.google.com/assets/colab-badge.svg\" alt=\"Open In Colab\"/></a>"
      ]
    },
    {
      "cell_type": "code",
      "metadata": {
        "id": "qNx9GR_K5H9f"
      },
      "source": [
        "# Binary Classification with Sonar Dataset: Baseline\n",
        "import pandas as pd\n",
        "from pandas import read_csv\n",
        "from keras.models import Sequential\n",
        "from keras.layers import Dense\n",
        "from keras.wrappers.scikit_learn import KerasClassifier\n",
        "from sklearn.model_selection import cross_val_score\n",
        "from sklearn.preprocessing import LabelEncoder\n",
        "from sklearn.model_selection import StratifiedKFold\n",
        "import matplotlib.pyplot as plt\n",
        "import numpy as np\n",
        "from sklearn.metrics import plot_roc_curve\n",
        "from sklearn.metrics import auc\n",
        "from sklearn.metrics import precision_recall_fscore_support\n",
        "from statistics import mean "
      ],
      "execution_count": 2,
      "outputs": []
    },
    {
      "cell_type": "code",
      "metadata": {
        "colab": {
          "base_uri": "https://localhost:8080/"
        },
        "id": "MIUklGmd5QCO",
        "outputId": "7e80cf91-6db5-4c53-f822-3c938356f196"
      },
      "source": [
        "!git clone 'https://github.com/sachinkavindaa/Machine-learning-with-Python'"
      ],
      "execution_count": 3,
      "outputs": [
        {
          "output_type": "stream",
          "name": "stdout",
          "text": [
            "Cloning into 'Machine-learning-with-Python'...\n",
            "remote: Enumerating objects: 137, done.\u001b[K\n",
            "remote: Counting objects: 100% (137/137), done.\u001b[K\n",
            "remote: Compressing objects: 100% (72/72), done.\u001b[K\n",
            "remote: Total 137 (delta 44), reused 129 (delta 36), pack-reused 0\u001b[K\n",
            "Receiving objects: 100% (137/137), 1.01 MiB | 4.81 MiB/s, done.\n",
            "Resolving deltas: 100% (44/44), done.\n"
          ]
        }
      ]
    },
    {
      "cell_type": "code",
      "metadata": {
        "id": "JrlpWE-45R5W"
      },
      "source": [
        "df = pd.read_csv('/content/Machine-learning-with-Python/ML/Diabetes/diabetes.csv')"
      ],
      "execution_count": 4,
      "outputs": []
    },
    {
      "cell_type": "code",
      "metadata": {
        "colab": {
          "base_uri": "https://localhost:8080/"
        },
        "id": "VeVr9frO5T6e",
        "outputId": "66f8ff62-9b41-4fd6-b942-2f4ed56f9317"
      },
      "source": [
        "df_mod = df[(df.Blood_Pressure != 0) & (df.BMI != 0) & (df.Glucose != 0)]\n",
        "df_mod.shape"
      ],
      "execution_count": 5,
      "outputs": [
        {
          "output_type": "execute_result",
          "data": {
            "text/plain": [
              "(724, 9)"
            ]
          },
          "metadata": {},
          "execution_count": 5
        }
      ]
    },
    {
      "cell_type": "code",
      "metadata": {
        "id": "mHPGFfD-5XMo"
      },
      "source": [
        "def min_max_scaling(df_mod):\n",
        "    \n",
        "    df_norm = df_mod.copy()\n",
        "    \n",
        "    \n",
        "    for column in df_norm.columns:\n",
        "        df_norm[column] = (df_norm[column] - df_norm[column].min()) / (df_norm[column].max() - df_norm[column].min())\n",
        "        \n",
        "    return df_norm\n",
        "\n",
        "df_scaled = min_max_scaling(df_mod)"
      ],
      "execution_count": 6,
      "outputs": []
    },
    {
      "cell_type": "code",
      "metadata": {
        "id": "fIAqf7Db5Y9P"
      },
      "source": [
        "feature_names = ['Pregnancies', 'Glucose', 'Blood_Pressure', 'Skin_Thickness', 'Insulin', 'BMI', 'Diabetes_Pedigree_Function', 'Age']\n",
        "X = df_scaled[feature_names]\n",
        "y = df_scaled.Outcome"
      ],
      "execution_count": 7,
      "outputs": []
    },
    {
      "cell_type": "code",
      "metadata": {
        "id": "TdN8JmTd5r7n"
      },
      "source": [
        "def create_network():\n",
        "    \n",
        "    # Start neural network\n",
        "    network = Sequential()\n",
        "\n",
        "    # Add fully connected layer with a ReLU activation function\n",
        "    network.add(Dense(units=10, activation='relu', input_shape=(8,)))\n",
        "\n",
        "    # Add fully connected layer with a ReLU activation function\n",
        "    network.add(Dense(units=3, activation='relu'))\n",
        "\n",
        "    # Add fully connected layer with a sigmoid activation function\n",
        "    network.add(Dense(units=1, activation='sigmoid'))\n",
        "\n",
        "    # Compile neural network\n",
        "    network.compile(loss='binary_crossentropy', # Cross-entropy\n",
        "                    optimizer='sgd', # Root Mean Square Propagation\n",
        "                    metrics=['accuracy']) # Accuracy performance metric\n",
        "    \n",
        "    # Return compiled network\n",
        "    return network"
      ],
      "execution_count": 8,
      "outputs": []
    },
    {
      "cell_type": "code",
      "metadata": {
        "id": "O8VFlwDX6rgG"
      },
      "source": [
        "def is_classifier(estimator):\n",
        "   \n",
        "    return getattr(estimator, \"_estimator_type\", None) == \"classifier\""
      ],
      "execution_count": 9,
      "outputs": []
    },
    {
      "cell_type": "code",
      "metadata": {
        "colab": {
          "base_uri": "https://localhost:8080/",
          "height": 295
        },
        "id": "JxzKfPL858k-",
        "outputId": "549dc042-ee36-4dfa-f86a-75a493b6b7bc"
      },
      "source": [
        "cv = StratifiedKFold(n_splits=5)\n",
        "# Wrap Keras model so it can be used by scikit-learn\n",
        "classifier = KerasClassifier(build_fn=create_network, \n",
        "                                 epochs=500, \n",
        "                                 batch_size=16, \n",
        "                                 verbose=0)\n",
        "\n",
        "classifier._estimator_type = \"classifier\"\n",
        "#Plotting the ROC curve\n",
        "tprs = []\n",
        "aucs = []\n",
        "mean_fpr = np.linspace(0, 1, 100)\n",
        "\n",
        "fig, ax = plt.subplots()\n",
        "scores = []\n",
        "cls_reports = []\n",
        "avg_cls_reports = []\n",
        "colors = list(['tan','lime','orange','indigo','maroon'])\n",
        "for i, (train, test) in enumerate(cv.split(X, y)):\n",
        "    history = classifier.fit(X.iloc[train], y.iloc[train])\n",
        "    score = classifier.score(X.iloc[test], y.iloc[test])\n",
        "    y_pred = classifier.predict(X.iloc[test])\n",
        "    cls_report = precision_recall_fscore_support(y.iloc[test],y_pred)\n",
        "    avg_cls_report = precision_recall_fscore_support(y.iloc[test],y_pred,average='binary')\n",
        "    viz = plot_roc_curve(classifier, X.iloc[test], y.iloc[test],\n",
        "                         name='ROC fold {}'.format(i+1),\n",
        "                         alpha=0.5, lw=1.5, ax=ax )\n",
        "    interp_tpr = np.interp(mean_fpr, viz.fpr, viz.tpr)\n",
        "    interp_tpr[0] = 0.0\n",
        "    tprs.append(interp_tpr)\n",
        "    aucs.append(viz.roc_auc)\n",
        "    scores.append(score)\n",
        "    cls_reports.append(cls_report)\n",
        "    avg_cls_reports.append(avg_cls_report)\n",
        "\n",
        "\n",
        "ax.plot([0, 1], [0, 1], linestyle='--', lw=2, color='r',\n",
        "        label='Chance', alpha=.8)\n",
        "\n",
        "mean_tpr = np.mean(tprs, axis=0)\n",
        "mean_tpr[-1] = 1.0\n",
        "mean_auc = auc(mean_fpr, mean_tpr)\n",
        "std_auc = np.std(aucs)\n",
        "\n",
        "ax.plot(mean_fpr, mean_tpr, color='b',\n",
        "        label=r'Mean ROC (AUC = %0.2f $\\pm$ %0.2f)' % (mean_auc, std_auc),\n",
        "        lw=2, alpha=.8)\n",
        "\n",
        "std_tpr = np.std(tprs, axis=0)\n",
        "tprs_upper = np.minimum(mean_tpr + std_tpr, 1)\n",
        "tprs_lower = np.maximum(mean_tpr - std_tpr, 0)\n",
        "ax.fill_between(mean_fpr, tprs_lower, tprs_upper, color='grey', alpha=.2,\n",
        "                label=r'$\\pm$ 1 std. dev.')\n",
        "\n",
        "ax.set(xlim=[-0.05, 1.05], ylim=[-0.05, 1.05],\n",
        "       title=\"ROC for Adam Optimizer\")\n",
        "ax.legend(loc=\"lower right\")\n",
        "plt.show()"
      ],
      "execution_count": 33,
      "outputs": [
        {
          "output_type": "display_data",
          "data": {
            "image/png": "[encoded data removed]",
            "text/plain": [
              "<Figure size 432x288 with 1 Axes>"
            ]
          },
          "metadata": {
            "needs_background": "light"
          }
        }
      ]
    },
    {
      "cell_type": "code",
      "metadata": {
        "colab": {
          "base_uri": "https://localhost:8080/"
        },
        "id": "0P-Nxk_vMORA",
        "outputId": "68cc873b-328f-4b97-fbfc-bc9fceb2ff5f"
      },
      "source": [
        "mean(scores)"
      ],
      "execution_count": 26,
      "outputs": [
        {
          "output_type": "execute_result",
          "data": {
            "text/plain": [
              "0.7790134072303772"
            ]
          },
          "metadata": {},
          "execution_count": 26
        }
      ]
    },
    {
      "cell_type": "code",
      "metadata": {
        "colab": {
          "base_uri": "https://localhost:8080/"
        },
        "id": "lwyZ14dpTIcS",
        "outputId": "6d2e994c-d541-4891-da0e-03f7f1c4fd10"
      },
      "source": [
        "mean(aucs)"
      ],
      "execution_count": 27,
      "outputs": [
        {
          "output_type": "execute_result",
          "data": {
            "text/plain": [
              "0.8425237379162192"
            ]
          },
          "metadata": {},
          "execution_count": 27
        }
      ]
    },
    {
      "cell_type": "code",
      "metadata": {
        "colab": {
          "base_uri": "https://localhost:8080/",
          "height": 313
        },
        "id": "jEEg_RHXNWMh",
        "outputId": "610765d1-8588-42a2-bb3f-93a0a4520236"
      },
      "source": [
        "acc = history.history['accuracy']\n",
        "#val_accuracy = history.history['val_accuracy']\n",
        "plt.plot(range(5), scores, marker = '.', markersize = 10)\n",
        "plt.title('Training and validation accuracy')\n",
        "plt.xlabel('Epochs')\n",
        "plt.ylabel('Accuracy')\n",
        "plt.legend()\n",
        "plt.show()"
      ],
      "execution_count": 28,
      "outputs": [
        {
          "output_type": "stream",
          "name": "stderr",
          "text": [
            "No handles with labels found to put in legend.\n"
          ]
        },
        {
          "output_type": "display_data",
          "data": {
            "image/png": "[encoded data removed]",
            "text/plain": [
              "<Figure size 432x288 with 1 Axes>"
            ]
          },
          "metadata": {
            "needs_background": "light"
          }
        }
      ]
    },
    {
      "cell_type": "code",
      "metadata": {
        "colab": {
          "base_uri": "https://localhost:8080/"
        },
        "id": "qn50Nm_oDQD9",
        "outputId": "60db62e8-b4aa-44d1-f8bb-27213930b034"
      },
      "source": [
        "mean(aucs)"
      ],
      "execution_count": 29,
      "outputs": [
        {
          "output_type": "execute_result",
          "data": {
            "text/plain": [
              "0.8425237379162192"
            ]
          },
          "metadata": {},
          "execution_count": 29
        }
      ]
    },
    {
      "cell_type": "code",
      "metadata": {
        "colab": {
          "base_uri": "https://localhost:8080/",
          "height": 295
        },
        "id": "W7eez0t7FCKw",
        "outputId": "f7cc96da-6b2d-497c-e15a-959507826fb4"
      },
      "source": [
        "acc = history.history['accuracy']\n",
        "#val_accuracy = history.history['val_accuracy']\n",
        "plt.plot(range(500), acc, 'y', label='Training acc')\n",
        "#plt.plot(epochs, val_acc, 'r', label='Validation acc')\n",
        "plt.title('Training and validation accuracy')\n",
        "plt.xlabel('Epochs')\n",
        "plt.ylabel('Accuracy')\n",
        "plt.legend()\n",
        "plt.show()"
      ],
      "execution_count": 30,
      "outputs": [
        {
          "output_type": "display_data",
          "data": {
            "image/png": "[encoded data removed]",
            "text/plain": [
              "<Figure size 432x288 with 1 Axes>"
            ]
          },
          "metadata": {
            "needs_background": "light"
          }
        }
      ]
    },
    {
      "cell_type": "code",
      "metadata": {
        "id": "069Gr7K5Uk4m"
      },
      "source": [
        "precision = mean(i[0] for i in avg_cls_reports)\n",
        "recall = mean(i[1] for i in avg_cls_reports)\n",
        "fscore = mean(i[2] for i in avg_cls_reports)"
      ],
      "execution_count": 35,
      "outputs": []
    },
    {
      "cell_type": "code",
      "metadata": {
        "id": "VlJV_mrQ0KSk"
      },
      "source": [
        "neg = []\n",
        "pos = []\n",
        "for i in cls_reports:\n",
        "  neg.append([j[0] for j in i])\n",
        "  pos.append([j[1] for j in i])"
      ],
      "execution_count": 36,
      "outputs": []
    },
    {
      "cell_type": "code",
      "metadata": {
        "id": "kbvUMjrG84f3"
      },
      "source": [
        "neg_recall = []\n",
        "for i in range(len(neg)):\n",
        "  neg_recall.append(neg[i][1])"
      ],
      "execution_count": 37,
      "outputs": []
    },
    {
      "cell_type": "code",
      "metadata": {
        "id": "inY2ZoEn876M"
      },
      "source": [
        "specificity = mean(neg_recall)"
      ],
      "execution_count": 38,
      "outputs": []
    },
    {
      "cell_type": "code",
      "metadata": {
        "id": "Xp8NEanq8-hp"
      },
      "source": [
        "pos_recall = []\n",
        "for i in range(len(pos)):\n",
        "  pos_recall.append(pos[i][1])\n",
        "sensitivity = mean(pos_recall)"
      ],
      "execution_count": 39,
      "outputs": []
    },
    {
      "cell_type": "code",
      "metadata": {
        "id": "h3LZ8q7HXc7A"
      },
      "source": [
        "bal_acc = mean([specificity,sensitivity])"
      ],
      "execution_count": 40,
      "outputs": []
    },
    {
      "cell_type": "code",
      "metadata": {
        "id": "ltL1zjBaRWVp",
        "outputId": "02ca7d09-f1fd-40e4-95d9-0d127caf22fa",
        "colab": {
          "base_uri": "https://localhost:8080/"
        }
      },
      "source": [
        "print('balance_acc : {}'.format(bal_acc))\n",
        "print('sensitivity : {}'.format(sensitivity))\n",
        "print('specificity : {}'.format(specificity))\n",
        "print('fscore : {}'.format(fscore))\n",
        "print('recall : {}'.format(recall))\n",
        "print('precision : {}'.format(precision))"
      ],
      "execution_count": 43,
      "outputs": [
        {
          "output_type": "stream",
          "name": "stdout",
          "text": [
            "balance_acc : 0.7292073039742213\n",
            "sensitivity : 0.574204081632653\n",
            "specificity : 0.8842105263157894\n",
            "fscore : 0.6389164482271588\n",
            "recall : 0.574204081632653\n",
            "precision : 0.7281972789115646\n"
          ]
        }
      ]
    },
    {
      "cell_type": "code",
      "metadata": {
        "id": "5Ha17RWJUETG"
      },
      "source": [
        ""
      ],
      "execution_count": null,
      "outputs": []
    }
  ]
}