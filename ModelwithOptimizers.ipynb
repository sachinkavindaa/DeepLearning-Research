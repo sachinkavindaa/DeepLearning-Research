{
  "nbformat": 4,
  "nbformat_minor": 0,
  "metadata": {
    "colab": {
      "name": "diabetesaccuracy.ipynb",
      "provenance": [],
      "collapsed_sections": [],
      "include_colab_link": true
    },
    "kernelspec": {
      "name": "python3",
      "display_name": "Python 3"
    },
    "language_info": {
      "name": "python"
    },
    "accelerator": "GPU"
  },
  "cells": [
    {
      "cell_type": "markdown",
      "metadata": {
        "id": "view-in-github",
        "colab_type": "text"
      },
      "source": [
        "<a href=\"https://colab.research.google.com/github/sachinkavindaa/ML-Project/blob/master/ModelwithOptimizers.ipynb\" target=\"_parent\"><img src=\"https://colab.research.google.com/assets/colab-badge.svg\" alt=\"Open In Colab\"/></a>"
      ]
    },
    {
      "cell_type": "code",
      "metadata": {
        "id": "ls2T5QctArLR"
      },
      "source": [
        "import numpy as np\n",
        "import pandas as pd\n",
        "import tensorflow as tf\n",
        "from tensorflow import keras\n",
        "from matplotlib import pyplot as plt\n",
        "from keras.models import Sequential\n",
        "from keras.layers import Dense,Dropout\n",
        "from pandas import read_csv\n",
        "from sklearn.model_selection import train_test_split\n",
        "from sklearn.model_selection import cross_val_score\n",
        "from sklearn.metrics import classification_report\n",
        "from sklearn.metrics import confusion_matrix\n",
        "from sklearn.metrics import accuracy_score\n",
        "from tensorflow.keras.utils import to_categorical\n",
        "%matplotlib inline"
      ],
      "execution_count": 5,
      "outputs": []
    },
    {
      "cell_type": "code",
      "metadata": {
        "colab": {
          "base_uri": "https://localhost:8080/"
        },
        "id": "W4qzioVsBJ19",
        "outputId": "92380f0f-8c79-44fe-b31d-4a393be9fc0e"
      },
      "source": [
        "!git clone 'https://github.com/sachinkavindaa/Machine-learning-with-Python'"
      ],
      "execution_count": 6,
      "outputs": [
        {
          "output_type": "stream",
          "name": "stdout",
          "text": [
            "fatal: destination path 'Machine-learning-with-Python' already exists and is not an empty directory.\n"
          ]
        }
      ]
    },
    {
      "cell_type": "code",
      "metadata": {
        "colab": {
          "base_uri": "https://localhost:8080/"
        },
        "id": "K44Wa6KiBU-g",
        "outputId": "4c0fa44a-6d20-4353-c53a-b3a311940a13"
      },
      "source": [
        "df = pd.read_csv('/content/Machine-learning-with-Python/ML/Diabetes/diabetes.csv')\n",
        "print(df.groupby('Outcome').size())\n"
      ],
      "execution_count": 7,
      "outputs": [
        {
          "output_type": "stream",
          "name": "stdout",
          "text": [
            "Outcome\n",
            "0    500\n",
            "1    268\n",
            "dtype: int64\n"
          ]
        }
      ]
    },
    {
      "cell_type": "code",
      "metadata": {
        "colab": {
          "base_uri": "https://localhost:8080/"
        },
        "id": "tbXWGPc4C0zu",
        "outputId": "43e667f8-0b83-48b0-c094-b8b53e0a156b"
      },
      "source": [
        "df_mod = df[(df.Blood_Pressure != 0) & (df.BMI != 0) & (df.Glucose != 0)]\n",
        "df_mod.shape"
      ],
      "execution_count": 8,
      "outputs": [
        {
          "output_type": "execute_result",
          "data": {
            "text/plain": [
              "(724, 9)"
            ]
          },
          "metadata": {},
          "execution_count": 8
        }
      ]
    },
    {
      "cell_type": "code",
      "metadata": {
        "id": "dCSxtwd7CBbc"
      },
      "source": [
        "def min_max_scaling(df_mod):\n",
        "    \n",
        "    df_norm = df_mod.copy()\n",
        "    \n",
        "    \n",
        "    for column in df_norm.columns:\n",
        "        df_norm[column] = (df_norm[column] - df_norm[column].min()) / (df_norm[column].max() - df_norm[column].min())\n",
        "        \n",
        "    return df_norm\n",
        "\n",
        "df_scaled = min_max_scaling(df_mod)\n"
      ],
      "execution_count": 9,
      "outputs": []
    },
    {
      "cell_type": "code",
      "metadata": {
        "id": "IY6l1OupC-N5"
      },
      "source": [
        "feature_names = ['Pregnancies', 'Glucose', 'Blood_Pressure', 'Skin_Thickness', 'Insulin', 'BMI', 'Diabetes_Pedigree_Function', 'Age']\n",
        "X = df_scaled[feature_names]\n",
        "y = df_scaled.Outcome"
      ],
      "execution_count": 10,
      "outputs": []
    },
    {
      "cell_type": "code",
      "metadata": {
        "colab": {
          "base_uri": "https://localhost:8080/"
        },
        "id": "GjsjsmLlG7It",
        "outputId": "f28f03c7-9518-4346-de60-e3b75f2a1597"
      },
      "source": [
        "from collections import Counter\n",
        "\n",
        "target = df_mod['Outcome'].values\n",
        "counter = Counter(target)\n",
        "for k,v in counter.items():\n",
        "\tper = v / len(target) * 100\n",
        "\tprint('Class=%d, Count=%d, Percentage=%.3f%%' % (k, v, per))"
      ],
      "execution_count": 11,
      "outputs": [
        {
          "output_type": "stream",
          "name": "stdout",
          "text": [
            "Class=1, Count=249, Percentage=34.392%\n",
            "Class=0, Count=475, Percentage=65.608%\n"
          ]
        }
      ]
    },
    {
      "cell_type": "code",
      "metadata": {
        "id": "xz72knKOHEW3"
      },
      "source": [
        "from sklearn.model_selection import train_test_split\n",
        "X_train, X_test, y_train, y_test = train_test_split(X, y, test_size = 0.25, stratify=y, random_state=3)"
      ],
      "execution_count": 41,
      "outputs": []
    },
    {
      "cell_type": "code",
      "metadata": {
        "id": "3Fb9iRT_DE22"
      },
      "source": [
        "#def prepare_data(df_scaled):\n",
        "\t#n_train = 200\n",
        "\t#trainX, testX = X.iloc[:n_train, :], X.iloc[n_train:, :]\n",
        "\t#trainy, testy = y.iloc[:n_train], y.iloc[n_train:]\n",
        "\t#return trainX, trainy, testX, testy\n"
      ],
      "execution_count": 42,
      "outputs": []
    },
    {
      "cell_type": "code",
      "metadata": {
        "id": "Dh2yV3HKDExw"
      },
      "source": [
        "# determine the number of input features\n",
        "n_features = X.shape[1]\n",
        "# define model\n",
        "model = Sequential()\n",
        "model.add(Dense(5, activation='relu', kernel_initializer='he_normal', input_shape=(n_features,)))\n",
        "model.add(Dense(3, kernel_initializer='he_normal', activation='relu'))\n",
        "model.add(Dense(1, activation='sigmoid'))"
      ],
      "execution_count": 82,
      "outputs": []
    },
    {
      "cell_type": "code",
      "metadata": {
        "id": "RPBVvLpLHS2H"
      },
      "source": [
        "# compile the model\n",
        "model.compile(optimizer='adam', loss='binary_crossentropy',metrics=['accuracy'])\n",
        "\n",
        "# fit the model\n",
        "history = model.fit(X_train, y_train, epochs=200, batch_size=32, verbose=0, validation_data=(X_test,y_test))"
      ],
      "execution_count": 83,
      "outputs": []
    },
    {
      "cell_type": "code",
      "metadata": {
        "colab": {
          "base_uri": "https://localhost:8080/"
        },
        "id": "uS29KAM8Hed6",
        "outputId": "bafa3381-1258-41fa-8ba6-27fdf58b14fe"
      },
      "source": [
        "# predict test set\n",
        "yhat=model.predict(X_test)\n",
        "pr = np.round(yhat)\n",
        "# evaluate predictions\n",
        "score = accuracy_score(y_test, pr)\n",
        "print('Accuracy: %.3f' % score)"
      ],
      "execution_count": 84,
      "outputs": [
        {
          "output_type": "stream",
          "name": "stdout",
          "text": [
            "Accuracy: 0.768\n"
          ]
        }
      ]
    },
    {
      "cell_type": "code",
      "metadata": {
        "colab": {
          "base_uri": "https://localhost:8080/"
        },
        "id": "p8xBcVZaHl-Q",
        "outputId": "9a4fe729-7b77-4428-fce7-c5e65f074304"
      },
      "source": [
        "# evaluate the model\n",
        "b ,train_acc = model.evaluate(X_train, y_train, verbose=0)\n",
        "m ,test_acc = model.evaluate(X_test, y_test, verbose=0)\n",
        "print(b)\n",
        "print(m)\n",
        "print('Train: %.3f, Test: %.3f' % (train_acc, test_acc))"
      ],
      "execution_count": 85,
      "outputs": [
        {
          "output_type": "stream",
          "name": "stdout",
          "text": [
            "0.44597649574279785\n",
            "0.45517921447753906\n",
            "Train: 0.777, Test: 0.768\n"
          ]
        }
      ]
    },
    {
      "cell_type": "code",
      "metadata": {
        "colab": {
          "base_uri": "https://localhost:8080/",
          "height": 295
        },
        "id": "xNah51DjHtaC",
        "outputId": "86f3c56e-1c83-4739-ff64-e0763402abb5"
      },
      "source": [
        "# plot learning curves\n",
        "plt.title('Learning Curves')\n",
        "plt.xlabel('Epoch')\n",
        "plt.ylabel('Cross Entropy')\n",
        "plt.plot(history.history['loss'], label='train')\n",
        "plt.plot(history.history['val_loss'], label='val')\n",
        "plt.legend()\n",
        "plt.show()"
      ],
      "execution_count": 86,
      "outputs": [
        {
          "output_type": "display_data",
          "data": {
            "image/png": "[encoded data removed]",
            "text/plain": [
              "<Figure size 432x288 with 1 Axes>"
            ]
          },
          "metadata": {
            "needs_background": "light"
          }
        }
      ]
    },
    {
      "cell_type": "code",
      "metadata": {
        "colab": {
          "base_uri": "https://localhost:8080/",
          "height": 281
        },
        "id": "xnH9s4TEHy75",
        "outputId": "251c7bf4-50f6-49e0-c324-773fd889381d"
      },
      "source": [
        "plt.title('Accuracy')\n",
        "plt.plot(history.history['accuracy'], label='train')\n",
        "plt.plot(history.history['val_accuracy'], label='test')\n",
        "plt.legend()\n",
        "plt.show()"
      ],
      "execution_count": 87,
      "outputs": [
        {
          "output_type": "display_data",
          "data": {
            "image/png": "[encoded data removed]",
            "text/plain": [
              "<Figure size 432x288 with 1 Axes>"
            ]
          },
          "metadata": {
            "needs_background": "light"
          }
        }
      ]
    },
    {
      "cell_type": "code",
      "metadata": {
        "id": "J6fs9_amDPHv"
      },
      "source": [
        "# fit a model and plot learning curve\n",
        "def fit_model(trainX, trainy, testX, testy, optimizer):\n",
        "\t# define model\n",
        "\tmodel = Sequential()\n",
        "\tmodel.add(Dense(10, input_shape=(n_features,), activation='relu', kernel_initializer='he_uniform'))\n",
        "\tmodel.add(Dense(1, activation='sigmoid'))\n",
        "\t# compile model\n",
        "\tmodel.compile(optimizer='adam', loss='binary_crossentropy',metrics=['accuracy'])\n",
        "\t# fit model\n",
        "\thistory = model.fit(trainX, trainy, validation_data=(testX, testy), epochs=200, verbose=0)\n",
        "\t# plot learning curves\n",
        "\tpyplot.plot(history.history['accuracy'], label='train')\n",
        "\tpyplot.plot(history.history['val_accuracy'], label='test')\n",
        "\tpyplot.title('opt='+optimizer, pad=-80)\n",
        "\t#pyplot.figure(figsize = (5,4))"
      ],
      "execution_count": 88,
      "outputs": []
    },
    {
      "cell_type": "code",
      "metadata": {
        "colab": {
          "base_uri": "https://localhost:8080/",
          "height": 297
        },
        "id": "7hkkwGUZDU8J",
        "outputId": "38ee6fb9-336a-4315-a79d-337bc3431e9e"
      },
      "source": [
        "trainX, trainy, testX, testy = prepare_data(df_scaled)\n",
        "# create learning curves for different optimizers\n",
        "momentums = ['sgd', 'rmsprop', 'adagrad', 'adam']\n",
        "for i in range(len(momentums)):\n",
        "\t# determine the plot number\n",
        "\tplot_no = 220 + (i+1)\n",
        "\tpyplot.subplot(plot_no)\n",
        " \n",
        "\t# fit model and plot learning curves for an optimizer\n",
        "\tfit_model(trainX, trainy, testX, testy, momentums[i])\n",
        "# show learning curves\n",
        "pyplot.legend()\n",
        "pyplot.tight_layout()\n",
        "pyplot.show()\n"
      ],
      "execution_count": 89,
      "outputs": [
        {
          "output_type": "display_data",
          "data": {
            "image/png": "[encoded data removed]",
            "text/plain": [
              "<Figure size 432x288 with 4 Axes>"
            ]
          },
          "metadata": {
            "needs_background": "light"
          }
        }
      ]
    },
    {
      "cell_type": "code",
      "metadata": {
        "id": "JtOvd7k1i4DI"
      },
      "source": [
        ""
      ],
      "execution_count": null,
      "outputs": []
    }
  ]
}